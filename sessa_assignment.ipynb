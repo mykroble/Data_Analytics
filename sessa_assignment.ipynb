{
 "cells": [
  {
   "cell_type": "markdown",
   "metadata": {},
   "source": [
    "## Imports"
   ]
  },
  {
   "cell_type": "code",
   "execution_count": 4,
   "metadata": {},
   "outputs": [],
   "source": [
    "import numpy as np\n",
    "import pandas as pd\n",
    "import matplotlib.pyplot as plt\n",
    "from scipy.stats import gaussian_kde\n",
    "from sklearn.preprocessing import StandardScaler\n",
    "from sklearn.cluster import KMeans, AgglomerativeClustering\n",
    "from scipy.cluster.hierarchy import dendrogram, linkage\n",
    "\n",
    "# Load the datasets\n",
    "red_wine = pd.read_csv(\"wine+quality/winequality-red.csv\", sep=\";\")\n",
    "white_wine = pd.read_csv(\"wine+quality/winequality-white.csv\", sep=\";\")"
   ]
  },
  {
   "cell_type": "markdown",
   "metadata": {},
   "source": [
    "### Empirical Estimation in SESSA:\n",
    "<b>SESSA</b> relies on empirical methods to analyze the structure of data. The <b>ECDF</b> is one such empirical method used to estimate the cumulative distribution of a dataset.\n",
    "\n",
    "The ECDF provides a non-parametric way to understand the distribution of a feature, which is crucial for identifying patterns, outliers, and the overall structure of the data."
   ]
  },
  {
   "cell_type": "code",
   "execution_count": 3,
   "metadata": {},
   "outputs": [],
   "source": [
    "def plot_ecdf(data, feature, wine_type):\n",
    "    \"\"\"\n",
    "    Plot the ECDF of a feature for a given dataset.\n",
    "    \"\"\"\n",
    "    sorted_vals = np.sort(data[feature])\n",
    "    yvals = np.arange(1, len(sorted_vals) + 1) / len(sorted_vals)\n",
    "\n",
    "    plt.figure(figsize=(8, 5))\n",
    "    plt.plot(sorted_vals, yvals, marker=\".\", linestyle=\"none\", label=f\"{wine_type} Wine\", color=\"red\" if wine_type == \"Red\" else \"blue\")\n",
    "    plt.xlabel(feature)\n",
    "    plt.ylabel(\"ECDF\")\n",
    "    plt.title(f\"ECDF of {feature} ({wine_type} Wine)\")\n",
    "    plt.legend()\n",
    "    plt.grid(True)\n",
    "    plt.show()"
   ]
  },
  {
   "cell_type": "code",
   "execution_count": null,
   "metadata": {},
   "outputs": [],
   "source": [
    "plot_ecdf(red_whine, \"pH\", \"Red\")"
   ]
  },
  {
   "cell_type": "code",
   "execution_count": 5,
   "metadata": {},
   "outputs": [],
   "source": [
    "def compute_kde(data, feature):\n",
    "    \"\"\"\n",
    "    Compute Kernel Density Estimation (KDE) for a given feature.\n",
    "    \"\"\"\n",
    "    kde = gaussian_kde(data[feature])\n",
    "    return kde"
   ]
  },
  {
   "cell_type": "code",
   "execution_count": 7,
   "metadata": {},
   "outputs": [],
   "source": [
    "def filter_data(data, feature_x, feature_y, lower_percentile=10, upper_percentile=80):\n",
    "    \"\"\"\n",
    "    Filter the data to retain the middle range (e.g., 10th to 80th percentile).\n",
    "    \"\"\"\n",
    "    lower_x, upper_x = np.percentile(data[feature_x], [lower_percentile, upper_percentile])\n",
    "    lower_y, upper_y = np.percentile(data[feature_y], [lower_percentile, upper_percentile])\n",
    "    filtered_data = data[\n",
    "        (data[feature_x] >= lower_x) & (data[feature_x] <= upper_x) &\n",
    "        (data[feature_y] >= lower_y) & (data[feature_y] <= upper_y)\n",
    "    ]\n",
    "    return filtered_data, (lower_x, upper_x), (lower_y, upper_y)"
   ]
  },
  {
   "cell_type": "code",
   "execution_count": 8,
   "metadata": {},
   "outputs": [],
   "source": [
    "def perform_kmeans(data, feature_x, feature_y, n_clusters=5):\n",
    "    \"\"\"\n",
    "    Perform K-Means clustering on the standardized data.\n",
    "    \"\"\"\n",
    "    scaler = StandardScaler()\n",
    "    scaled_data = scaler.fit_transform(data[[feature_x, feature_y]])\n",
    "    kmeans = KMeans(n_clusters=n_clusters, random_state=42, n_init=10)\n",
    "    data[\"KMeans_Cluster\"] = kmeans.fit_predict(scaled_data)\n",
    "    return data"
   ]
  },
  {
   "cell_type": "code",
   "execution_count": 9,
   "metadata": {},
   "outputs": [],
   "source": [
    "def perform_agglomerative(data, feature_x, feature_y, n_clusters=3):\n",
    "    \"\"\"\n",
    "    Perform Agglomerative clustering on the standardized data.\n",
    "    \"\"\"\n",
    "    scaler = StandardScaler()\n",
    "    scaled_data = scaler.fit_transform(data[[feature_x, feature_y]])\n",
    "    agglo = AgglomerativeClustering(n_clusters=n_clusters)\n",
    "    data[\"Agglomerative_Cluster\"] = agglo.fit_predict(scaled_data)\n",
    "    return data, scaled_data"
   ]
  },
  {
   "cell_type": "code",
   "execution_count": 10,
   "metadata": {},
   "outputs": [],
   "source": [
    "def plot_kde(kde, feature, lower, upper, wine_type):\n",
    "    \"\"\"\n",
    "    Plot the Kernel Density Estimation (KDE) for a feature.\n",
    "    \"\"\"\n",
    "    x_vals = np.linspace(lower, upper, 1000)\n",
    "    plt.plot(x_vals, kde(x_vals), label=\"KDE\", color=\"blue\")\n",
    "    plt.axvline(lower, color=\"red\", linestyle=\"--\", label=f\"{lower_percentile}th Percentile\")\n",
    "    plt.axvline(upper, color=\"green\", linestyle=\"--\", label=f\"{upper_percentile}th Percentile\")\n",
    "    plt.xlabel(feature)\n",
    "    plt.ylabel(\"Density\")\n",
    "    plt.title(f\"KDE of {feature} ({wine_type} wine)\")\n",
    "    plt.legend()\n",
    "    plt.grid(True)"
   ]
  },
  {
   "cell_type": "code",
   "execution_count": 11,
   "metadata": {},
   "outputs": [],
   "source": [
    "def plot_clustering(data, feature_x, feature_y, cluster_column, title, cmap=\"viridis\"):\n",
    "    \"\"\"\n",
    "    Plot clustering results.\n",
    "    \"\"\"\n",
    "    plt.scatter(data[feature_x], data[feature_y], c=data[cluster_column], cmap=cmap, edgecolors=\"k\")\n",
    "    plt.xlabel(feature_x)\n",
    "    plt.ylabel(feature_y)\n",
    "    plt.title(title)\n",
    "    plt.colorbar(label=\"Cluster\")\n",
    "    plt.grid(True)"
   ]
  },
  {
   "cell_type": "code",
   "execution_count": 12,
   "metadata": {},
   "outputs": [],
   "source": [
    "def plot_dendrogram(scaled_data, wine_type):\n",
    "    \"\"\"\n",
    "    Plot the dendrogram for Agglomerative clustering.\n",
    "    \"\"\"\n",
    "    linked = linkage(scaled_data, method=\"ward\")\n",
    "    dendrogram(linked, orientation=\"top\", distance_sort=\"descending\", show_leaf_counts=True)\n",
    "    plt.title(f\"Dendrogram ({wine_type} wine)\")\n",
    "    plt.xlabel(\"Sample Index\")\n",
    "    plt.ylabel(\"Distance\")"
   ]
  },
  {
   "cell_type": "code",
   "execution_count": 13,
   "metadata": {},
   "outputs": [],
   "source": [
    "def sessa_empirical_estimation_with_agglomerative(data, feature_x, feature_y, wine_type):\n",
    "    \"\"\"\n",
    "    Perform SESSA-like empirical estimation and clustering, including K-Means and Agglomerative Clustering.\n",
    "    \"\"\"\n",
    "    # Step 1: Compute empirical distribution (KDE)\n",
    "    kde_x = compute_kde(data, feature_x)\n",
    "    kde_y = compute_kde(data, feature_y)\n",
    "\n",
    "    # Step 2: Retain a subset of the data (e.g., remove extreme outliers)\n",
    "    filtered_data, (lower_x, upper_x), (lower_y, upper_y) = filter_data(data, feature_x, feature_y)\n",
    "\n",
    "    # Step 3: Perform K-Means clustering\n",
    "    filtered_data = perform_kmeans(filtered_data, feature_x, feature_y, n_clusters=5)\n",
    "\n",
    "    # Step 4: Perform Agglomerative clustering\n",
    "    filtered_data, scaled_data = perform_agglomerative(filtered_data, feature_x, feature_y, n_clusters=3)\n",
    "\n",
    "    # Step 5: Visualize the results\n",
    "    plt.figure(figsize=(20, 5))\n",
    "\n",
    "    # Plot KDE for feature_x\n",
    "    plt.subplot(1, 4, 1)\n",
    "    plot_kde(kde_x, feature_x, lower_x, upper_x, wine_type)\n",
    "\n",
    "    # Plot K-Means clustering\n",
    "    plt.subplot(1, 4, 2)\n",
    "    plot_clustering(filtered_data, feature_x, feature_y, \"KMeans_Cluster\", f\"K-Means Clustering ({wine_type} wine)\", cmap=\"viridis\")\n",
    "\n",
    "    # Plot Agglomerative clustering\n",
    "    plt.subplot(1, 4, 3)\n",
    "    plot_clustering(filtered_data, feature_x, feature_y, \"Agglomerative_Cluster\", f\"Agglomerative Clustering ({wine_type} wine)\", cmap=\"plasma\")\n",
    "\n",
    "    # Plot dendrogram for Agglomerative clustering\n",
    "    plt.subplot(1, 4, 4)\n",
    "    plot_dendrogram(scaled_data, wine_type)\n",
    "\n",
    "    plt.tight_layout()\n",
    "    plt.show()\n",
    "\n",
    "    return filtered_data"
   ]
  },
  {
   "cell_type": "code",
   "execution_count": 15,
   "metadata": {},
   "outputs": [
    {
     "name": "stdout",
     "output_type": "stream",
     "text": [
      "SESSA-like Analysis for Red Wine:\n"
     ]
    },
    {
     "name": "stderr",
     "output_type": "stream",
     "text": [
      "/var/folders/jr/ht0rtnl55hq80pk016rxvhzw0000gn/T/ipykernel_57086/3458762430.py:8: SettingWithCopyWarning: \n",
      "A value is trying to be set on a copy of a slice from a DataFrame.\n",
      "Try using .loc[row_indexer,col_indexer] = value instead\n",
      "\n",
      "See the caveats in the documentation: https://pandas.pydata.org/pandas-docs/stable/user_guide/indexing.html#returning-a-view-versus-a-copy\n",
      "  data[\"KMeans_Cluster\"] = kmeans.fit_predict(scaled_data)\n",
      "/var/folders/jr/ht0rtnl55hq80pk016rxvhzw0000gn/T/ipykernel_57086/1058165568.py:8: SettingWithCopyWarning: \n",
      "A value is trying to be set on a copy of a slice from a DataFrame.\n",
      "Try using .loc[row_indexer,col_indexer] = value instead\n",
      "\n",
      "See the caveats in the documentation: https://pandas.pydata.org/pandas-docs/stable/user_guide/indexing.html#returning-a-view-versus-a-copy\n",
      "  data[\"Agglomerative_Cluster\"] = agglo.fit_predict(scaled_data)\n"
     ]
    },
    {
     "ename": "NameError",
     "evalue": "name 'lower_percentile' is not defined",
     "output_type": "error",
     "traceback": [
      "\u001b[0;31m---------------------------------------------------------------------------\u001b[0m",
      "\u001b[0;31mNameError\u001b[0m                                 Traceback (most recent call last)",
      "Cell \u001b[0;32mIn[15], line 2\u001b[0m\n\u001b[1;32m      1\u001b[0m \u001b[38;5;28mprint\u001b[39m(\u001b[38;5;124m\"\u001b[39m\u001b[38;5;124mSESSA-like Analysis for Red Wine:\u001b[39m\u001b[38;5;124m\"\u001b[39m)\n\u001b[0;32m----> 2\u001b[0m filtered_red_wine \u001b[38;5;241m=\u001b[39m sessa_empirical_estimation_with_agglomerative(red_wine, \u001b[38;5;124m\"\u001b[39m\u001b[38;5;124mfixed acidity\u001b[39m\u001b[38;5;124m\"\u001b[39m, \u001b[38;5;124m\"\u001b[39m\u001b[38;5;124mvolatile acidity\u001b[39m\u001b[38;5;124m\"\u001b[39m, \u001b[38;5;124m\"\u001b[39m\u001b[38;5;124mRed\u001b[39m\u001b[38;5;124m\"\u001b[39m)\n",
      "Cell \u001b[0;32mIn[13], line 23\u001b[0m, in \u001b[0;36msessa_empirical_estimation_with_agglomerative\u001b[0;34m(data, feature_x, feature_y, wine_type)\u001b[0m\n\u001b[1;32m     21\u001b[0m \u001b[38;5;66;03m# Plot KDE for feature_x\u001b[39;00m\n\u001b[1;32m     22\u001b[0m plt\u001b[38;5;241m.\u001b[39msubplot(\u001b[38;5;241m1\u001b[39m, \u001b[38;5;241m4\u001b[39m, \u001b[38;5;241m1\u001b[39m)\n\u001b[0;32m---> 23\u001b[0m plot_kde(kde_x, feature_x, lower_x, upper_x, wine_type)\n\u001b[1;32m     25\u001b[0m \u001b[38;5;66;03m# Plot K-Means clustering\u001b[39;00m\n\u001b[1;32m     26\u001b[0m plt\u001b[38;5;241m.\u001b[39msubplot(\u001b[38;5;241m1\u001b[39m, \u001b[38;5;241m4\u001b[39m, \u001b[38;5;241m2\u001b[39m)\n",
      "Cell \u001b[0;32mIn[10], line 7\u001b[0m, in \u001b[0;36mplot_kde\u001b[0;34m(kde, feature, lower, upper, wine_type)\u001b[0m\n\u001b[1;32m      5\u001b[0m x_vals \u001b[38;5;241m=\u001b[39m np\u001b[38;5;241m.\u001b[39mlinspace(lower, upper, \u001b[38;5;241m1000\u001b[39m)\n\u001b[1;32m      6\u001b[0m plt\u001b[38;5;241m.\u001b[39mplot(x_vals, kde(x_vals), label\u001b[38;5;241m=\u001b[39m\u001b[38;5;124m\"\u001b[39m\u001b[38;5;124mKDE\u001b[39m\u001b[38;5;124m\"\u001b[39m, color\u001b[38;5;241m=\u001b[39m\u001b[38;5;124m\"\u001b[39m\u001b[38;5;124mblue\u001b[39m\u001b[38;5;124m\"\u001b[39m)\n\u001b[0;32m----> 7\u001b[0m plt\u001b[38;5;241m.\u001b[39maxvline(lower, color\u001b[38;5;241m=\u001b[39m\u001b[38;5;124m\"\u001b[39m\u001b[38;5;124mred\u001b[39m\u001b[38;5;124m\"\u001b[39m, linestyle\u001b[38;5;241m=\u001b[39m\u001b[38;5;124m\"\u001b[39m\u001b[38;5;124m--\u001b[39m\u001b[38;5;124m\"\u001b[39m, label\u001b[38;5;241m=\u001b[39m\u001b[38;5;124mf\u001b[39m\u001b[38;5;124m\"\u001b[39m\u001b[38;5;132;01m{\u001b[39;00mlower_percentile\u001b[38;5;132;01m}\u001b[39;00m\u001b[38;5;124mth Percentile\u001b[39m\u001b[38;5;124m\"\u001b[39m)\n\u001b[1;32m      8\u001b[0m plt\u001b[38;5;241m.\u001b[39maxvline(upper, color\u001b[38;5;241m=\u001b[39m\u001b[38;5;124m\"\u001b[39m\u001b[38;5;124mgreen\u001b[39m\u001b[38;5;124m\"\u001b[39m, linestyle\u001b[38;5;241m=\u001b[39m\u001b[38;5;124m\"\u001b[39m\u001b[38;5;124m--\u001b[39m\u001b[38;5;124m\"\u001b[39m, label\u001b[38;5;241m=\u001b[39m\u001b[38;5;124mf\u001b[39m\u001b[38;5;124m\"\u001b[39m\u001b[38;5;132;01m{\u001b[39;00mupper_percentile\u001b[38;5;132;01m}\u001b[39;00m\u001b[38;5;124mth Percentile\u001b[39m\u001b[38;5;124m\"\u001b[39m)\n\u001b[1;32m      9\u001b[0m plt\u001b[38;5;241m.\u001b[39mxlabel(feature)\n",
      "\u001b[0;31mNameError\u001b[0m: name 'lower_percentile' is not defined"
     ]
    },
    {
     "data": {
      "image/png": "[encoded data removed]",
      "text/plain": [
       "<Figure size 2000x500 with 1 Axes>"
      ]
     },
     "metadata": {},
     "output_type": "display_data"
    }
   ],
   "source": [
    "print(\"SESSA-like Analysis for Red Wine:\")\n",
    "filtered_red_wine = sessa_empirical_estimation_with_agglomerative(red_wine, \"fixed acidity\", \"volatile acidity\", \"Red\")\n"
   ]
  }
 ],
 "metadata": {
  "kernelspec": {
   "display_name": "base",
   "language": "python",
   "name": "python3"
  },
  "language_info": {
   "codemirror_mode": {
    "name": "ipython",
    "version": 3
   },
   "file_extension": ".py",
   "mimetype": "text/x-python",
   "name": "python",
   "nbconvert_exporter": "python",
   "pygments_lexer": "ipython3",
   "version": "3.11.7"
  }
 },
 "nbformat": 4,
 "nbformat_minor": 2
}
